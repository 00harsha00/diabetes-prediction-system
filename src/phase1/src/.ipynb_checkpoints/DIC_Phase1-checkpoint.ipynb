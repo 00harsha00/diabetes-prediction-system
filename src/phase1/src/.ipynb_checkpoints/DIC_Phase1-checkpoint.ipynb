{
 "cells": [
  {
   "cell_type": "code",
   "execution_count": 1,
   "id": "27afcf38",
   "metadata": {
    "scrolled": true
   },
   "outputs": [],
   "source": [
    "# will import the libraries here\n",
    "import pandas as pd\n",
    "import numpy as np\n",
    "import matplotlib.pyplot as plt\n",
    "import seaborn as sb\n",
    "import warnings\n",
    "warnings.filterwarnings(\"ignore\") # used for ignoring the warnings when there's version change"
   ]
  },
  {
   "cell_type": "code",
   "execution_count": 2,
   "id": "8ee3f54a",
   "metadata": {
    "scrolled": true
   },
   "outputs": [
    {
     "name": "stdout",
     "output_type": "stream",
     "text": [
      "['BooleanDtype', 'Categorical', 'CategoricalDtype', 'CategoricalIndex', 'DataFrame', 'DateOffset', 'DatetimeIndex', 'DatetimeTZDtype', 'ExcelFile', 'ExcelWriter', 'Flags', 'Float32Dtype', 'Float64Dtype', 'Float64Index', 'Grouper', 'HDFStore', 'Index', 'IndexSlice', 'Int16Dtype', 'Int32Dtype', 'Int64Dtype', 'Int64Index', 'Int8Dtype', 'Interval', 'IntervalDtype', 'IntervalIndex', 'MultiIndex', 'NA', 'NaT', 'NamedAgg', 'Period', 'PeriodDtype', 'PeriodIndex', 'RangeIndex', 'Series', 'SparseDtype', 'StringDtype', 'Timedelta', 'TimedeltaIndex', 'Timestamp', 'UInt16Dtype', 'UInt32Dtype', 'UInt64Dtype', 'UInt64Index', 'UInt8Dtype', '__all__', '__builtins__', '__cached__', '__deprecated_num_index_names', '__dir__', '__doc__', '__docformat__', '__file__', '__getattr__', '__git_version__', '__loader__', '__name__', '__package__', '__path__', '__spec__', '__version__', '_config', '_is_numpy_dev', '_libs', '_testing', '_typing', '_version', 'api', 'array', 'arrays', 'bdate_range', 'compat', 'concat', 'core', 'crosstab', 'cut', 'date_range', 'describe_option', 'errors', 'eval', 'factorize', 'get_dummies', 'get_option', 'infer_freq', 'interval_range', 'io', 'isna', 'isnull', 'json_normalize', 'lreshape', 'melt', 'merge', 'merge_asof', 'merge_ordered', 'notna', 'notnull', 'offsets', 'option_context', 'options', 'pandas', 'period_range', 'pivot', 'pivot_table', 'plotting', 'qcut', 'read_clipboard', 'read_csv', 'read_excel', 'read_feather', 'read_fwf', 'read_gbq', 'read_hdf', 'read_html', 'read_json', 'read_orc', 'read_parquet', 'read_pickle', 'read_sas', 'read_spss', 'read_sql', 'read_sql_query', 'read_sql_table', 'read_stata', 'read_table', 'read_xml', 'reset_option', 'set_eng_float_format', 'set_option', 'show_versions', 'test', 'testing', 'timedelta_range', 'to_datetime', 'to_numeric', 'to_pickle', 'to_timedelta', 'tseries', 'unique', 'util', 'value_counts', 'wide_to_long']\n"
     ]
    }
   ],
   "source": [
    "# dir of any library we load gives us all the methods and attributes of it.\n",
    "\n",
    "print(dir(pd))"
   ]
  },
  {
   "cell_type": "code",
   "execution_count": 3,
   "id": "6d7a5cb8",
   "metadata": {
    "scrolled": true
   },
   "outputs": [
    {
     "data": {
      "text/html": [
       "<div>\n",
       "<style scoped>\n",
       "    .dataframe tbody tr th:only-of-type {\n",
       "        vertical-align: middle;\n",
       "    }\n",
       "\n",
       "    .dataframe tbody tr th {\n",
       "        vertical-align: top;\n",
       "    }\n",
       "\n",
       "    .dataframe thead th {\n",
       "        text-align: right;\n",
       "    }\n",
       "</style>\n",
       "<table border=\"1\" class=\"dataframe\">\n",
       "  <thead>\n",
       "    <tr style=\"text-align: right;\">\n",
       "      <th></th>\n",
       "      <th>permanentlink</th>\n",
       "      <th>name</th>\n",
       "      <th>webhomepage_url</th>\n",
       "      <th>categories</th>\n",
       "      <th>status</th>\n",
       "      <th>country_code</th>\n",
       "      <th>state_code</th>\n",
       "      <th>region</th>\n",
       "      <th>city</th>\n",
       "      <th>established_at</th>\n",
       "    </tr>\n",
       "  </thead>\n",
       "  <tbody>\n",
       "    <tr>\n",
       "      <th>0</th>\n",
       "      <td>/Organization/1Daymakeover</td>\n",
       "      <td>1DayMakeover</td>\n",
       "      <td>http://www.1daymakeover.com</td>\n",
       "      <td>Cosmetics|E-Commerce|Fashion|Lifestyle|Persona...</td>\n",
       "      <td>closed</td>\n",
       "      <td>USA</td>\n",
       "      <td>CA</td>\n",
       "      <td>Orange County, California</td>\n",
       "      <td>Santa Ana</td>\n",
       "      <td>30-06-2008</td>\n",
       "    </tr>\n",
       "    <tr>\n",
       "      <th>1</th>\n",
       "      <td>/Organization/1Doc3</td>\n",
       "      <td>1doc3</td>\n",
       "      <td>http://www.1doc3.com</td>\n",
       "      <td>Health and Wellness|Health Care|Internet|SMS</td>\n",
       "      <td>operating</td>\n",
       "      <td>COL</td>\n",
       "      <td>34</td>\n",
       "      <td>Bogota</td>\n",
       "      <td>Bogotá</td>\n",
       "      <td>01-11-2013</td>\n",
       "    </tr>\n",
       "    <tr>\n",
       "      <th>2</th>\n",
       "      <td>/Organization/1Docway</td>\n",
       "      <td>1DocWay</td>\n",
       "      <td>http://1docway.com</td>\n",
       "      <td>Doctors|Health Care|Health Care Information Te...</td>\n",
       "      <td>acquired</td>\n",
       "      <td>USA</td>\n",
       "      <td>NY</td>\n",
       "      <td>New York City</td>\n",
       "      <td>New York</td>\n",
       "      <td>01-02-2011</td>\n",
       "    </tr>\n",
       "    <tr>\n",
       "      <th>3</th>\n",
       "      <td>/Organization/1Energy-Systems</td>\n",
       "      <td>1Energy Systems</td>\n",
       "      <td>http://1energysystems.com</td>\n",
       "      <td>Software</td>\n",
       "      <td>operating</td>\n",
       "      <td>USA</td>\n",
       "      <td>WA</td>\n",
       "      <td>Seattle</td>\n",
       "      <td>Seattle</td>\n",
       "      <td>01-01-2010</td>\n",
       "    </tr>\n",
       "    <tr>\n",
       "      <th>4</th>\n",
       "      <td>/Organization/1Eq</td>\n",
       "      <td>Babyscripts</td>\n",
       "      <td>http://www.getbabyscripts.com</td>\n",
       "      <td>Health and Wellness|Mobile Health</td>\n",
       "      <td>operating</td>\n",
       "      <td>USA</td>\n",
       "      <td>DC</td>\n",
       "      <td>Washington, D.C.</td>\n",
       "      <td>Washington</td>\n",
       "      <td>08-03-2013</td>\n",
       "    </tr>\n",
       "  </tbody>\n",
       "</table>\n",
       "</div>"
      ],
      "text/plain": [
       "                   permanentlink             name  \\\n",
       "0     /Organization/1Daymakeover     1DayMakeover   \n",
       "1            /Organization/1Doc3            1doc3   \n",
       "2          /Organization/1Docway          1DocWay   \n",
       "3  /Organization/1Energy-Systems  1Energy Systems   \n",
       "4              /Organization/1Eq      Babyscripts   \n",
       "\n",
       "                 webhomepage_url  \\\n",
       "0    http://www.1daymakeover.com   \n",
       "1           http://www.1doc3.com   \n",
       "2             http://1docway.com   \n",
       "3      http://1energysystems.com   \n",
       "4  http://www.getbabyscripts.com   \n",
       "\n",
       "                                          categories     status country_code  \\\n",
       "0  Cosmetics|E-Commerce|Fashion|Lifestyle|Persona...     closed          USA   \n",
       "1       Health and Wellness|Health Care|Internet|SMS  operating          COL   \n",
       "2  Doctors|Health Care|Health Care Information Te...   acquired          USA   \n",
       "3                                           Software  operating          USA   \n",
       "4                  Health and Wellness|Mobile Health  operating          USA   \n",
       "\n",
       "  state_code                     region        city established_at  \n",
       "0         CA  Orange County, California   Santa Ana     30-06-2008  \n",
       "1         34                     Bogota      Bogotá     01-11-2013  \n",
       "2         NY              New York City    New York     01-02-2011  \n",
       "3         WA                    Seattle     Seattle     01-01-2010  \n",
       "4         DC           Washington, D.C.  Washington     08-03-2013  "
      ]
     },
     "execution_count": 3,
     "metadata": {},
     "output_type": "execute_result"
    }
   ],
   "source": [
    "# reading organizations.csv file and use head method for listing first 5 rows\n",
    "organizations = pd.read_csv(\"organizations.csv\")\n",
    "organizations.head()"
   ]
  },
  {
   "cell_type": "code",
   "execution_count": 4,
   "id": "97426263",
   "metadata": {
    "scrolled": true
   },
   "outputs": [
    {
     "data": {
      "text/html": [
       "<div>\n",
       "<style scoped>\n",
       "    .dataframe tbody tr th:only-of-type {\n",
       "        vertical-align: middle;\n",
       "    }\n",
       "\n",
       "    .dataframe tbody tr th {\n",
       "        vertical-align: top;\n",
       "    }\n",
       "\n",
       "    .dataframe thead th {\n",
       "        text-align: right;\n",
       "    }\n",
       "</style>\n",
       "<table border=\"1\" class=\"dataframe\">\n",
       "  <thead>\n",
       "    <tr style=\"text-align: right;\">\n",
       "      <th></th>\n",
       "      <th>permanentlink</th>\n",
       "      <th>name</th>\n",
       "      <th>webhomepage_url</th>\n",
       "      <th>categories</th>\n",
       "      <th>status</th>\n",
       "      <th>country_code</th>\n",
       "      <th>state_code</th>\n",
       "      <th>region</th>\n",
       "      <th>city</th>\n",
       "      <th>established_at</th>\n",
       "    </tr>\n",
       "  </thead>\n",
       "  <tbody>\n",
       "    <tr>\n",
       "      <th>0</th>\n",
       "      <td>/Organization/1Daymakeover</td>\n",
       "      <td>1DayMakeover</td>\n",
       "      <td>http://www.1daymakeover.com</td>\n",
       "      <td>Cosmetics|E-Commerce|Fashion|Lifestyle|Persona...</td>\n",
       "      <td>closed</td>\n",
       "      <td>USA</td>\n",
       "      <td>CA</td>\n",
       "      <td>Orange County, California</td>\n",
       "      <td>Santa Ana</td>\n",
       "      <td>30-06-2008</td>\n",
       "    </tr>\n",
       "    <tr>\n",
       "      <th>1</th>\n",
       "      <td>/Organization/1Doc3</td>\n",
       "      <td>1doc3</td>\n",
       "      <td>http://www.1doc3.com</td>\n",
       "      <td>Health and Wellness|Health Care|Internet|SMS</td>\n",
       "      <td>operating</td>\n",
       "      <td>COL</td>\n",
       "      <td>34</td>\n",
       "      <td>Bogota</td>\n",
       "      <td>Bogotá</td>\n",
       "      <td>01-11-2013</td>\n",
       "    </tr>\n",
       "    <tr>\n",
       "      <th>2</th>\n",
       "      <td>/Organization/1Docway</td>\n",
       "      <td>1DocWay</td>\n",
       "      <td>http://1docway.com</td>\n",
       "      <td>Doctors|Health Care|Health Care Information Te...</td>\n",
       "      <td>acquired</td>\n",
       "      <td>USA</td>\n",
       "      <td>NY</td>\n",
       "      <td>New York City</td>\n",
       "      <td>New York</td>\n",
       "      <td>01-02-2011</td>\n",
       "    </tr>\n",
       "    <tr>\n",
       "      <th>3</th>\n",
       "      <td>/Organization/1Energy-Systems</td>\n",
       "      <td>1Energy Systems</td>\n",
       "      <td>http://1energysystems.com</td>\n",
       "      <td>Software</td>\n",
       "      <td>operating</td>\n",
       "      <td>USA</td>\n",
       "      <td>WA</td>\n",
       "      <td>Seattle</td>\n",
       "      <td>Seattle</td>\n",
       "      <td>01-01-2010</td>\n",
       "    </tr>\n",
       "    <tr>\n",
       "      <th>4</th>\n",
       "      <td>/Organization/1Eq</td>\n",
       "      <td>Babyscripts</td>\n",
       "      <td>http://www.getbabyscripts.com</td>\n",
       "      <td>Health and Wellness|Mobile Health</td>\n",
       "      <td>operating</td>\n",
       "      <td>USA</td>\n",
       "      <td>DC</td>\n",
       "      <td>Washington, D.C.</td>\n",
       "      <td>Washington</td>\n",
       "      <td>08-03-2013</td>\n",
       "    </tr>\n",
       "    <tr>\n",
       "      <th>...</th>\n",
       "      <td>...</td>\n",
       "      <td>...</td>\n",
       "      <td>...</td>\n",
       "      <td>...</td>\n",
       "      <td>...</td>\n",
       "      <td>...</td>\n",
       "      <td>...</td>\n",
       "      <td>...</td>\n",
       "      <td>...</td>\n",
       "      <td>...</td>\n",
       "    </tr>\n",
       "    <tr>\n",
       "      <th>66363</th>\n",
       "      <td>/Organization/1Cloudstar-Asia</td>\n",
       "      <td>1CloudStar</td>\n",
       "      <td>http://www.1CloudStar.com</td>\n",
       "      <td>Cloud Computing|Content|Digital Media|Enterpri...</td>\n",
       "      <td>operating</td>\n",
       "      <td>SGP</td>\n",
       "      <td>NaN</td>\n",
       "      <td>Singapore</td>\n",
       "      <td>Singapore</td>\n",
       "      <td>01-01-2012</td>\n",
       "    </tr>\n",
       "    <tr>\n",
       "      <th>66364</th>\n",
       "      <td>/Organization/1Commmedical</td>\n",
       "      <td>1CommMedical</td>\n",
       "      <td>http://1commmedical.com</td>\n",
       "      <td>Health Care|Insurance|Medical</td>\n",
       "      <td>operating</td>\n",
       "      <td>USA</td>\n",
       "      <td>IA</td>\n",
       "      <td>Des Moines</td>\n",
       "      <td>Ankeny</td>\n",
       "      <td>01-01-2013</td>\n",
       "    </tr>\n",
       "    <tr>\n",
       "      <th>66365</th>\n",
       "      <td>/Organization/1D4-Pty</td>\n",
       "      <td>1d4 Pty</td>\n",
       "      <td>http://www.immortaloutdoors.com</td>\n",
       "      <td>Geospatial|Maps|Outdoors</td>\n",
       "      <td>operating</td>\n",
       "      <td>NOR</td>\n",
       "      <td>2</td>\n",
       "      <td>NaN</td>\n",
       "      <td>NaN</td>\n",
       "      <td>NaN</td>\n",
       "    </tr>\n",
       "    <tr>\n",
       "      <th>66366</th>\n",
       "      <td>/Organization/1Day1Song</td>\n",
       "      <td>1Day1Song</td>\n",
       "      <td>http://1day1song.com/</td>\n",
       "      <td>Music Services</td>\n",
       "      <td>operating</td>\n",
       "      <td>KOR</td>\n",
       "      <td>11</td>\n",
       "      <td>Seoul</td>\n",
       "      <td>Seoul</td>\n",
       "      <td>01-12-2012</td>\n",
       "    </tr>\n",
       "    <tr>\n",
       "      <th>66367</th>\n",
       "      <td>/Organization/1Daylater</td>\n",
       "      <td>1DayLater</td>\n",
       "      <td>http://1daylater.com</td>\n",
       "      <td>Curated Web|Tracking</td>\n",
       "      <td>closed</td>\n",
       "      <td>AUS</td>\n",
       "      <td>2</td>\n",
       "      <td>Sydney</td>\n",
       "      <td>Newcastle</td>\n",
       "      <td>26-08-2009</td>\n",
       "    </tr>\n",
       "  </tbody>\n",
       "</table>\n",
       "<p>66368 rows × 10 columns</p>\n",
       "</div>"
      ],
      "text/plain": [
       "                       permanentlink             name  \\\n",
       "0         /Organization/1Daymakeover     1DayMakeover   \n",
       "1                /Organization/1Doc3            1doc3   \n",
       "2              /Organization/1Docway          1DocWay   \n",
       "3      /Organization/1Energy-Systems  1Energy Systems   \n",
       "4                  /Organization/1Eq      Babyscripts   \n",
       "...                              ...              ...   \n",
       "66363  /Organization/1Cloudstar-Asia       1CloudStar   \n",
       "66364     /Organization/1Commmedical     1CommMedical   \n",
       "66365          /Organization/1D4-Pty          1d4 Pty   \n",
       "66366        /Organization/1Day1Song        1Day1Song   \n",
       "66367        /Organization/1Daylater        1DayLater   \n",
       "\n",
       "                       webhomepage_url  \\\n",
       "0          http://www.1daymakeover.com   \n",
       "1                 http://www.1doc3.com   \n",
       "2                   http://1docway.com   \n",
       "3            http://1energysystems.com   \n",
       "4        http://www.getbabyscripts.com   \n",
       "...                                ...   \n",
       "66363        http://www.1CloudStar.com   \n",
       "66364          http://1commmedical.com   \n",
       "66365  http://www.immortaloutdoors.com   \n",
       "66366            http://1day1song.com/   \n",
       "66367             http://1daylater.com   \n",
       "\n",
       "                                              categories     status  \\\n",
       "0      Cosmetics|E-Commerce|Fashion|Lifestyle|Persona...     closed   \n",
       "1           Health and Wellness|Health Care|Internet|SMS  operating   \n",
       "2      Doctors|Health Care|Health Care Information Te...   acquired   \n",
       "3                                               Software  operating   \n",
       "4                      Health and Wellness|Mobile Health  operating   \n",
       "...                                                  ...        ...   \n",
       "66363  Cloud Computing|Content|Digital Media|Enterpri...  operating   \n",
       "66364                      Health Care|Insurance|Medical  operating   \n",
       "66365                           Geospatial|Maps|Outdoors  operating   \n",
       "66366                                     Music Services  operating   \n",
       "66367                               Curated Web|Tracking     closed   \n",
       "\n",
       "      country_code state_code                     region        city  \\\n",
       "0              USA         CA  Orange County, California   Santa Ana   \n",
       "1              COL         34                     Bogota      Bogotá   \n",
       "2              USA         NY              New York City    New York   \n",
       "3              USA         WA                    Seattle     Seattle   \n",
       "4              USA         DC           Washington, D.C.  Washington   \n",
       "...            ...        ...                        ...         ...   \n",
       "66363          SGP        NaN                  Singapore   Singapore   \n",
       "66364          USA         IA                 Des Moines      Ankeny   \n",
       "66365          NOR          2                        NaN         NaN   \n",
       "66366          KOR         11                      Seoul       Seoul   \n",
       "66367          AUS          2                     Sydney   Newcastle   \n",
       "\n",
       "      established_at  \n",
       "0         30-06-2008  \n",
       "1         01-11-2013  \n",
       "2         01-02-2011  \n",
       "3         01-01-2010  \n",
       "4         08-03-2013  \n",
       "...              ...  \n",
       "66363     01-01-2012  \n",
       "66364     01-01-2013  \n",
       "66365            NaN  \n",
       "66366     01-12-2012  \n",
       "66367     26-08-2009  \n",
       "\n",
       "[66368 rows x 10 columns]"
      ]
     },
     "metadata": {},
     "output_type": "display_data"
    }
   ],
   "source": [
    "# display method prints the first 5 and last 5 rows of the DataFrame.\n",
    "\n",
    "display(organizations)"
   ]
  },
  {
   "cell_type": "code",
   "execution_count": 5,
   "id": "5cdda666",
   "metadata": {},
   "outputs": [
    {
     "data": {
      "text/html": [
       "<div>\n",
       "<style scoped>\n",
       "    .dataframe tbody tr th:only-of-type {\n",
       "        vertical-align: middle;\n",
       "    }\n",
       "\n",
       "    .dataframe tbody tr th {\n",
       "        vertical-align: top;\n",
       "    }\n",
       "\n",
       "    .dataframe thead th {\n",
       "        text-align: right;\n",
       "    }\n",
       "</style>\n",
       "<table border=\"1\" class=\"dataframe\">\n",
       "  <thead>\n",
       "    <tr style=\"text-align: right;\">\n",
       "      <th></th>\n",
       "      <th>organization_permanentlink</th>\n",
       "      <th>fundinground_permanentlink</th>\n",
       "      <th>fundinground_type</th>\n",
       "      <th>funding_round_code</th>\n",
       "      <th>funded_date</th>\n",
       "      <th>investment_amount_usd</th>\n",
       "    </tr>\n",
       "  </thead>\n",
       "  <tbody>\n",
       "    <tr>\n",
       "      <th>0</th>\n",
       "      <td>/ORGANIZATION/123FENG-COM</td>\n",
       "      <td>/funding-round/9d83084d87dc63a309c9a6fe9bf59d1b</td>\n",
       "      <td>venture</td>\n",
       "      <td>A</td>\n",
       "      <td>27-10-2015</td>\n",
       "      <td>13000000.0</td>\n",
       "    </tr>\n",
       "    <tr>\n",
       "      <th>1</th>\n",
       "      <td>/organization/123greetings</td>\n",
       "      <td>/funding-round/5dd1821a92088ff96b467eb16431731a</td>\n",
       "      <td>venture</td>\n",
       "      <td>NaN</td>\n",
       "      <td>23-07-2015</td>\n",
       "      <td>5400000.0</td>\n",
       "    </tr>\n",
       "    <tr>\n",
       "      <th>2</th>\n",
       "      <td>/ORGANIZATION/123PEOPLE</td>\n",
       "      <td>/funding-round/246571dc273630b5f233010d50351e2f</td>\n",
       "      <td>seed</td>\n",
       "      <td>NaN</td>\n",
       "      <td>01-01-2008</td>\n",
       "      <td>NaN</td>\n",
       "    </tr>\n",
       "    <tr>\n",
       "      <th>3</th>\n",
       "      <td>/organization/1248</td>\n",
       "      <td>/funding-round/ce0e1829f5fe37bb20fc1542340f1766</td>\n",
       "      <td>seed</td>\n",
       "      <td>NaN</td>\n",
       "      <td>18-03-2014</td>\n",
       "      <td>378812.0</td>\n",
       "    </tr>\n",
       "    <tr>\n",
       "      <th>4</th>\n",
       "      <td>/ORGANIZATION/128-TECHNOLOGY</td>\n",
       "      <td>/funding-round/fb6216a30cb566ede89e0bee0623a634</td>\n",
       "      <td>venture</td>\n",
       "      <td>NaN</td>\n",
       "      <td>16-12-2014</td>\n",
       "      <td>11999347.0</td>\n",
       "    </tr>\n",
       "  </tbody>\n",
       "</table>\n",
       "</div>"
      ],
      "text/plain": [
       "     organization_permanentlink  \\\n",
       "0     /ORGANIZATION/123FENG-COM   \n",
       "1    /organization/123greetings   \n",
       "2       /ORGANIZATION/123PEOPLE   \n",
       "3            /organization/1248   \n",
       "4  /ORGANIZATION/128-TECHNOLOGY   \n",
       "\n",
       "                        fundinground_permanentlink fundinground_type  \\\n",
       "0  /funding-round/9d83084d87dc63a309c9a6fe9bf59d1b           venture   \n",
       "1  /funding-round/5dd1821a92088ff96b467eb16431731a           venture   \n",
       "2  /funding-round/246571dc273630b5f233010d50351e2f              seed   \n",
       "3  /funding-round/ce0e1829f5fe37bb20fc1542340f1766              seed   \n",
       "4  /funding-round/fb6216a30cb566ede89e0bee0623a634           venture   \n",
       "\n",
       "  funding_round_code funded_date  investment_amount_usd  \n",
       "0                  A  27-10-2015             13000000.0  \n",
       "1                NaN  23-07-2015              5400000.0  \n",
       "2                NaN  01-01-2008                    NaN  \n",
       "3                NaN  18-03-2014               378812.0  \n",
       "4                NaN  16-12-2014             11999347.0  "
      ]
     },
     "execution_count": 5,
     "metadata": {},
     "output_type": "execute_result"
    }
   ],
   "source": [
    "# loading fundingrounds.csv file\n",
    "fundingrounds = pd.read_csv(\"fundingrounds.csv\")\n",
    "fundingrounds.head()"
   ]
  },
  {
   "cell_type": "code",
   "execution_count": 6,
   "id": "09e11366",
   "metadata": {},
   "outputs": [],
   "source": [
    "# Checking the shape of fundingrounds.csv file\n",
    "funx,funy=fundingrounds.shape"
   ]
  },
  {
   "cell_type": "code",
   "execution_count": 7,
   "id": "22da40e5",
   "metadata": {
    "scrolled": false
   },
   "outputs": [],
   "source": [
    "# Checking the shape of organizations.csv file\n",
    "orgx,orgy=organizations.shape"
   ]
  },
  {
   "cell_type": "code",
   "execution_count": 8,
   "id": "3b5fa927",
   "metadata": {},
   "outputs": [
    {
     "data": {
      "text/plain": [
       "(663680, 689694)"
      ]
     },
     "execution_count": 8,
     "metadata": {},
     "output_type": "execute_result"
    }
   ],
   "source": [
    "# Calculating the whole size of the datasets rows*columns\n",
    "organizations.size,fundingrounds.size"
   ]
  },
  {
   "cell_type": "code",
   "execution_count": 9,
   "id": "6f8c9a5f",
   "metadata": {
    "scrolled": true
   },
   "outputs": [
    {
     "data": {
      "text/plain": [
       "permanentlink      object\n",
       "name               object\n",
       "webhomepage_url    object\n",
       "categories         object\n",
       "status             object\n",
       "country_code       object\n",
       "state_code         object\n",
       "region             object\n",
       "city               object\n",
       "established_at     object\n",
       "dtype: object"
      ]
     },
     "execution_count": 9,
     "metadata": {},
     "output_type": "execute_result"
    }
   ],
   "source": [
    "# gives us the datatype of every column present in the DataFrame.\n",
    "organizations.dtypes"
   ]
  },
  {
   "cell_type": "code",
   "execution_count": 10,
   "id": "84604f06",
   "metadata": {},
   "outputs": [
    {
     "data": {
      "text/plain": [
       "organization_permanentlink     object\n",
       "fundinground_permanentlink     object\n",
       "fundinground_type              object\n",
       "funding_round_code             object\n",
       "funded_date                    object\n",
       "investment_amount_usd         float64\n",
       "dtype: object"
      ]
     },
     "execution_count": 10,
     "metadata": {},
     "output_type": "execute_result"
    }
   ],
   "source": [
    "fundingrounds.dtypes"
   ]
  },
  {
   "cell_type": "code",
   "execution_count": 11,
   "id": "75aa76ad",
   "metadata": {},
   "outputs": [],
   "source": [
    "# converting the permanentlink column from type object to type string \n",
    "organizations['permanentlink'] = organizations['permanentlink'].astype(\"string\")\n",
    "fundingrounds['organization_permanentlink'] = fundingrounds['organization_permanentlink'].astype(\"string\")"
   ]
  },
  {
   "cell_type": "code",
   "execution_count": 12,
   "id": "707d34e8",
   "metadata": {
    "scrolled": false
   },
   "outputs": [
    {
     "name": "stdout",
     "output_type": "stream",
     "text": [
      "0\n",
      "48576\n"
     ]
    }
   ],
   "source": [
    "# converting all the data in permanentlink column into lower case.\n",
    "organizations['permanentlink'] = organizations['permanentlink'].str.lower()\n",
    "print(orgx-len(organizations['permanentlink'].unique()))\n",
    "fundingrounds['organization_permanentlink'] = fundingrounds['organization_permanentlink'].str.lower()\n",
    "print(funx-len(fundingrounds['organization_permanentlink'].unique()))"
   ]
  },
  {
   "cell_type": "code",
   "execution_count": 13,
   "id": "7a892f0d",
   "metadata": {},
   "outputs": [
    {
     "name": "stdout",
     "output_type": "stream",
     "text": [
      "0\n"
     ]
    }
   ],
   "source": [
    "# Remove duplicates rows  (Duplicate Removal)\n",
    "fgrounds_cleaned = fundingrounds.drop_duplicates()\n",
    "print(fgrounds_cleaned.duplicated().sum())"
   ]
  },
  {
   "cell_type": "code",
   "execution_count": 14,
   "id": "1a5b7008",
   "metadata": {
    "scrolled": true
   },
   "outputs": [
    {
     "data": {
      "text/plain": [
       "permanentlink          0\n",
       "name                   1\n",
       "webhomepage_url     5058\n",
       "categories          3148\n",
       "status                 0\n",
       "country_code        6958\n",
       "state_code          8547\n",
       "region              8030\n",
       "city                8028\n",
       "established_at     15221\n",
       "dtype: int64"
      ]
     },
     "execution_count": 14,
     "metadata": {},
     "output_type": "execute_result"
    }
   ],
   "source": [
    "# gives us the NaN values count of each column.\n",
    "# isna() considers true if there is null value else false.\n",
    "\n",
    "organizations.isna().sum()"
   ]
  },
  {
   "cell_type": "code",
   "execution_count": 15,
   "id": "9eacf7b0",
   "metadata": {},
   "outputs": [
    {
     "data": {
      "text/plain": [
       "organization_permanentlink        0\n",
       "fundinground_permanentlink        0\n",
       "fundinground_type                 0\n",
       "funding_round_code            83809\n",
       "funded_date                       0\n",
       "investment_amount_usd         19990\n",
       "dtype: int64"
      ]
     },
     "execution_count": 15,
     "metadata": {},
     "output_type": "execute_result"
    }
   ],
   "source": [
    "fgrounds_cleaned.isna().sum()"
   ]
  },
  {
   "cell_type": "code",
   "execution_count": 16,
   "id": "23877a1b",
   "metadata": {},
   "outputs": [
    {
     "data": {
      "text/plain": [
       "54991"
      ]
     },
     "execution_count": 16,
     "metadata": {},
     "output_type": "execute_result"
    }
   ],
   "source": [
    "# gives us the whole NaN values in a Dataset.\n",
    "\n",
    "organizations.isna().sum().sum()"
   ]
  },
  {
   "cell_type": "code",
   "execution_count": 17,
   "id": "1ba9d98f",
   "metadata": {},
   "outputs": [
    {
     "data": {
      "text/plain": [
       "103799"
      ]
     },
     "execution_count": 17,
     "metadata": {},
     "output_type": "execute_result"
    }
   ],
   "source": [
    "fgrounds_cleaned.isna().sum().sum()"
   ]
  },
  {
   "cell_type": "code",
   "execution_count": 18,
   "id": "b6da80de",
   "metadata": {
    "scrolled": false
   },
   "outputs": [
    {
     "data": {
      "text/plain": [
       "(0        0\n",
       " 1        0\n",
       " 2        0\n",
       " 3        0\n",
       " 4        0\n",
       "         ..\n",
       " 66363    1\n",
       " 66364    0\n",
       " 66365    3\n",
       " 66366    0\n",
       " 66367    0\n",
       " Length: 66368, dtype: int64,\n",
       " 0         0\n",
       " 1         1\n",
       " 2         2\n",
       " 3         1\n",
       " 4         1\n",
       "          ..\n",
       " 114944    1\n",
       " 114945    1\n",
       " 114946    1\n",
       " 114947    1\n",
       " 114948    2\n",
       " Length: 114949, dtype: int64)"
      ]
     },
     "execution_count": 18,
     "metadata": {},
     "output_type": "execute_result"
    }
   ],
   "source": [
    "# gives us count of null values row wise.\n",
    "\n",
    "organizations.isnull().sum(axis=1),fgrounds_cleaned.isnull().sum(axis=1)"
   ]
  },
  {
   "cell_type": "code",
   "execution_count": 19,
   "id": "9584b428",
   "metadata": {},
   "outputs": [],
   "source": [
    "# renaming the column organization_permanentlink to permanentlink.\n",
    "fgrounds_cleaned.rename(columns = {'organization_permanentlink':'permanentlink'}, inplace = True) "
   ]
  },
  {
   "cell_type": "code",
   "execution_count": 20,
   "id": "19fb9aec",
   "metadata": {},
   "outputs": [
    {
     "data": {
      "text/html": [
       "<div>\n",
       "<style scoped>\n",
       "    .dataframe tbody tr th:only-of-type {\n",
       "        vertical-align: middle;\n",
       "    }\n",
       "\n",
       "    .dataframe tbody tr th {\n",
       "        vertical-align: top;\n",
       "    }\n",
       "\n",
       "    .dataframe thead th {\n",
       "        text-align: right;\n",
       "    }\n",
       "</style>\n",
       "<table border=\"1\" class=\"dataframe\">\n",
       "  <thead>\n",
       "    <tr style=\"text-align: right;\">\n",
       "      <th></th>\n",
       "      <th>permanentlink</th>\n",
       "      <th>fundinground_permanentlink</th>\n",
       "      <th>fundinground_type</th>\n",
       "      <th>funding_round_code</th>\n",
       "      <th>funded_date</th>\n",
       "      <th>investment_amount_usd</th>\n",
       "    </tr>\n",
       "  </thead>\n",
       "  <tbody>\n",
       "    <tr>\n",
       "      <th>0</th>\n",
       "      <td>/organization/123feng-com</td>\n",
       "      <td>/funding-round/9d83084d87dc63a309c9a6fe9bf59d1b</td>\n",
       "      <td>venture</td>\n",
       "      <td>A</td>\n",
       "      <td>27-10-2015</td>\n",
       "      <td>13000000.0</td>\n",
       "    </tr>\n",
       "    <tr>\n",
       "      <th>1</th>\n",
       "      <td>/organization/123greetings</td>\n",
       "      <td>/funding-round/5dd1821a92088ff96b467eb16431731a</td>\n",
       "      <td>venture</td>\n",
       "      <td>NaN</td>\n",
       "      <td>23-07-2015</td>\n",
       "      <td>5400000.0</td>\n",
       "    </tr>\n",
       "    <tr>\n",
       "      <th>2</th>\n",
       "      <td>/organization/123people</td>\n",
       "      <td>/funding-round/246571dc273630b5f233010d50351e2f</td>\n",
       "      <td>seed</td>\n",
       "      <td>NaN</td>\n",
       "      <td>01-01-2008</td>\n",
       "      <td>NaN</td>\n",
       "    </tr>\n",
       "    <tr>\n",
       "      <th>3</th>\n",
       "      <td>/organization/1248</td>\n",
       "      <td>/funding-round/ce0e1829f5fe37bb20fc1542340f1766</td>\n",
       "      <td>seed</td>\n",
       "      <td>NaN</td>\n",
       "      <td>18-03-2014</td>\n",
       "      <td>378812.0</td>\n",
       "    </tr>\n",
       "    <tr>\n",
       "      <th>4</th>\n",
       "      <td>/organization/128-technology</td>\n",
       "      <td>/funding-round/fb6216a30cb566ede89e0bee0623a634</td>\n",
       "      <td>venture</td>\n",
       "      <td>NaN</td>\n",
       "      <td>16-12-2014</td>\n",
       "      <td>11999347.0</td>\n",
       "    </tr>\n",
       "  </tbody>\n",
       "</table>\n",
       "</div>"
      ],
      "text/plain": [
       "                  permanentlink  \\\n",
       "0     /organization/123feng-com   \n",
       "1    /organization/123greetings   \n",
       "2       /organization/123people   \n",
       "3            /organization/1248   \n",
       "4  /organization/128-technology   \n",
       "\n",
       "                        fundinground_permanentlink fundinground_type  \\\n",
       "0  /funding-round/9d83084d87dc63a309c9a6fe9bf59d1b           venture   \n",
       "1  /funding-round/5dd1821a92088ff96b467eb16431731a           venture   \n",
       "2  /funding-round/246571dc273630b5f233010d50351e2f              seed   \n",
       "3  /funding-round/ce0e1829f5fe37bb20fc1542340f1766              seed   \n",
       "4  /funding-round/fb6216a30cb566ede89e0bee0623a634           venture   \n",
       "\n",
       "  funding_round_code funded_date  investment_amount_usd  \n",
       "0                  A  27-10-2015             13000000.0  \n",
       "1                NaN  23-07-2015              5400000.0  \n",
       "2                NaN  01-01-2008                    NaN  \n",
       "3                NaN  18-03-2014               378812.0  \n",
       "4                NaN  16-12-2014             11999347.0  "
      ]
     },
     "execution_count": 20,
     "metadata": {},
     "output_type": "execute_result"
    }
   ],
   "source": [
    "fgrounds_cleaned.head()"
   ]
  },
  {
   "cell_type": "code",
   "execution_count": 21,
   "id": "52729a7b",
   "metadata": {
    "scrolled": false
   },
   "outputs": [
    {
     "data": {
      "text/html": [
       "<div>\n",
       "<style scoped>\n",
       "    .dataframe tbody tr th:only-of-type {\n",
       "        vertical-align: middle;\n",
       "    }\n",
       "\n",
       "    .dataframe tbody tr th {\n",
       "        vertical-align: top;\n",
       "    }\n",
       "\n",
       "    .dataframe thead th {\n",
       "        text-align: right;\n",
       "    }\n",
       "</style>\n",
       "<table border=\"1\" class=\"dataframe\">\n",
       "  <thead>\n",
       "    <tr style=\"text-align: right;\">\n",
       "      <th></th>\n",
       "      <th>permanentlink</th>\n",
       "      <th>fundinground_permanentlink</th>\n",
       "      <th>fundinground_type</th>\n",
       "      <th>funding_round_code</th>\n",
       "      <th>funded_date</th>\n",
       "      <th>investment_amount_usd</th>\n",
       "      <th>name</th>\n",
       "      <th>webhomepage_url</th>\n",
       "      <th>categories</th>\n",
       "      <th>status</th>\n",
       "      <th>country_code</th>\n",
       "      <th>state_code</th>\n",
       "      <th>region</th>\n",
       "      <th>city</th>\n",
       "      <th>established_at</th>\n",
       "    </tr>\n",
       "  </thead>\n",
       "  <tbody>\n",
       "    <tr>\n",
       "      <th>0</th>\n",
       "      <td>/organization/123feng-com</td>\n",
       "      <td>/funding-round/9d83084d87dc63a309c9a6fe9bf59d1b</td>\n",
       "      <td>venture</td>\n",
       "      <td>A</td>\n",
       "      <td>27-10-2015</td>\n",
       "      <td>13000000.0</td>\n",
       "      <td>123Feng.Com</td>\n",
       "      <td>http://123feng.com/</td>\n",
       "      <td>NaN</td>\n",
       "      <td>operating</td>\n",
       "      <td>CHN</td>\n",
       "      <td>2</td>\n",
       "      <td>Hangzhou</td>\n",
       "      <td>Hangzhou</td>\n",
       "      <td>01-01-2014</td>\n",
       "    </tr>\n",
       "    <tr>\n",
       "      <th>1</th>\n",
       "      <td>/organization/123greetings</td>\n",
       "      <td>/funding-round/5dd1821a92088ff96b467eb16431731a</td>\n",
       "      <td>venture</td>\n",
       "      <td>NaN</td>\n",
       "      <td>23-07-2015</td>\n",
       "      <td>5400000.0</td>\n",
       "      <td>123Greetings</td>\n",
       "      <td>http://www.123greetings.com/</td>\n",
       "      <td>Internet</td>\n",
       "      <td>operating</td>\n",
       "      <td>NaN</td>\n",
       "      <td>NaN</td>\n",
       "      <td>NaN</td>\n",
       "      <td>NaN</td>\n",
       "      <td>01-05-1997</td>\n",
       "    </tr>\n",
       "    <tr>\n",
       "      <th>2</th>\n",
       "      <td>/organization/123people</td>\n",
       "      <td>/funding-round/246571dc273630b5f233010d50351e2f</td>\n",
       "      <td>seed</td>\n",
       "      <td>NaN</td>\n",
       "      <td>01-01-2008</td>\n",
       "      <td>NaN</td>\n",
       "      <td>yelster digital gmbh (former 123people)</td>\n",
       "      <td>http://yelsterdigital.com</td>\n",
       "      <td>Local Search|Software|Web Design</td>\n",
       "      <td>acquired</td>\n",
       "      <td>AUT</td>\n",
       "      <td>9</td>\n",
       "      <td>Vienna</td>\n",
       "      <td>Vienna</td>\n",
       "      <td>01-01-2007</td>\n",
       "    </tr>\n",
       "    <tr>\n",
       "      <th>3</th>\n",
       "      <td>/organization/1248</td>\n",
       "      <td>/funding-round/ce0e1829f5fe37bb20fc1542340f1766</td>\n",
       "      <td>seed</td>\n",
       "      <td>NaN</td>\n",
       "      <td>18-03-2014</td>\n",
       "      <td>378812.0</td>\n",
       "      <td>1248</td>\n",
       "      <td>http://1248.io/index.php/?page=index</td>\n",
       "      <td>Software</td>\n",
       "      <td>operating</td>\n",
       "      <td>GBR</td>\n",
       "      <td>C3</td>\n",
       "      <td>London</td>\n",
       "      <td>Cambridge</td>\n",
       "      <td>01-01-2013</td>\n",
       "    </tr>\n",
       "    <tr>\n",
       "      <th>4</th>\n",
       "      <td>/organization/128-technology</td>\n",
       "      <td>/funding-round/fb6216a30cb566ede89e0bee0623a634</td>\n",
       "      <td>venture</td>\n",
       "      <td>NaN</td>\n",
       "      <td>16-12-2014</td>\n",
       "      <td>11999347.0</td>\n",
       "      <td>128 Technology</td>\n",
       "      <td>http://www.128technology.com/</td>\n",
       "      <td>Service Providers|Technology</td>\n",
       "      <td>operating</td>\n",
       "      <td>USA</td>\n",
       "      <td>MA</td>\n",
       "      <td>Boston</td>\n",
       "      <td>Burlington</td>\n",
       "      <td>07-07-2014</td>\n",
       "    </tr>\n",
       "  </tbody>\n",
       "</table>\n",
       "</div>"
      ],
      "text/plain": [
       "                  permanentlink  \\\n",
       "0     /organization/123feng-com   \n",
       "1    /organization/123greetings   \n",
       "2       /organization/123people   \n",
       "3            /organization/1248   \n",
       "4  /organization/128-technology   \n",
       "\n",
       "                        fundinground_permanentlink fundinground_type  \\\n",
       "0  /funding-round/9d83084d87dc63a309c9a6fe9bf59d1b           venture   \n",
       "1  /funding-round/5dd1821a92088ff96b467eb16431731a           venture   \n",
       "2  /funding-round/246571dc273630b5f233010d50351e2f              seed   \n",
       "3  /funding-round/ce0e1829f5fe37bb20fc1542340f1766              seed   \n",
       "4  /funding-round/fb6216a30cb566ede89e0bee0623a634           venture   \n",
       "\n",
       "  funding_round_code funded_date  investment_amount_usd  \\\n",
       "0                  A  27-10-2015             13000000.0   \n",
       "1                NaN  23-07-2015              5400000.0   \n",
       "2                NaN  01-01-2008                    NaN   \n",
       "3                NaN  18-03-2014               378812.0   \n",
       "4                NaN  16-12-2014             11999347.0   \n",
       "\n",
       "                                      name  \\\n",
       "0                              123Feng.Com   \n",
       "1                             123Greetings   \n",
       "2  yelster digital gmbh (former 123people)   \n",
       "3                                     1248   \n",
       "4                           128 Technology   \n",
       "\n",
       "                        webhomepage_url                        categories  \\\n",
       "0                   http://123feng.com/                               NaN   \n",
       "1          http://www.123greetings.com/                          Internet   \n",
       "2             http://yelsterdigital.com  Local Search|Software|Web Design   \n",
       "3  http://1248.io/index.php/?page=index                          Software   \n",
       "4         http://www.128technology.com/      Service Providers|Technology   \n",
       "\n",
       "      status country_code state_code    region        city established_at  \n",
       "0  operating          CHN          2  Hangzhou    Hangzhou     01-01-2014  \n",
       "1  operating          NaN        NaN       NaN         NaN     01-05-1997  \n",
       "2   acquired          AUT          9    Vienna      Vienna     01-01-2007  \n",
       "3  operating          GBR         C3    London   Cambridge     01-01-2013  \n",
       "4  operating          USA         MA    Boston  Burlington     07-07-2014  "
      ]
     },
     "execution_count": 21,
     "metadata": {},
     "output_type": "execute_result"
    }
   ],
   "source": [
    "#merging companies.csv to organization_permanentlink.csv and using head printing frist 5 rows of the merged dataset\n",
    "main_file = pd.merge(fgrounds_cleaned,organizations, how='left', on='permanentlink')\n",
    "main_file.head()"
   ]
  },
  {
   "cell_type": "code",
   "execution_count": 22,
   "id": "7030abba",
   "metadata": {},
   "outputs": [
    {
     "data": {
      "text/plain": [
       "(114949, 15)"
      ]
     },
     "execution_count": 22,
     "metadata": {},
     "output_type": "execute_result"
    }
   ],
   "source": [
    "#check the shape of the main_file\n",
    "main_file.shape"
   ]
  },
  {
   "cell_type": "code",
   "execution_count": 23,
   "id": "63e0bdae",
   "metadata": {},
   "outputs": [
    {
     "name": "stdout",
     "output_type": "stream",
     "text": [
      "<class 'pandas.core.frame.DataFrame'>\n",
      "Int64Index: 114949 entries, 0 to 114948\n",
      "Data columns (total 15 columns):\n",
      " #   Column                      Non-Null Count   Dtype  \n",
      "---  ------                      --------------   -----  \n",
      " 0   permanentlink               114949 non-null  string \n",
      " 1   fundinground_permanentlink  114949 non-null  object \n",
      " 2   fundinground_type           114949 non-null  object \n",
      " 3   funding_round_code          31140 non-null   object \n",
      " 4   funded_date                 114949 non-null  object \n",
      " 5   investment_amount_usd       94959 non-null   float64\n",
      " 6   name                        114908 non-null  object \n",
      " 7   webhomepage_url             108779 non-null  object \n",
      " 8   categories                  111512 non-null  object \n",
      " 9   status                      114909 non-null  object \n",
      " 10  country_code                106255 non-null  object \n",
      " 11  state_code                  103989 non-null  object \n",
      " 12  region                      104766 non-null  object \n",
      " 13  city                        104769 non-null  object \n",
      " 14  established_at              94407 non-null   object \n",
      "dtypes: float64(1), object(13), string(1)\n",
      "memory usage: 14.0+ MB\n"
     ]
    }
   ],
   "source": [
    "#check the info of main_file for better understaanding\n",
    "main_file.info()"
   ]
  },
  {
   "cell_type": "code",
   "execution_count": 24,
   "id": "428775ed",
   "metadata": {},
   "outputs": [
    {
     "data": {
      "text/plain": [
       "permanentlink                     0\n",
       "fundinground_permanentlink        0\n",
       "fundinground_type                 0\n",
       "funding_round_code            83809\n",
       "funded_date                       0\n",
       "investment_amount_usd         19990\n",
       "name                             41\n",
       "webhomepage_url                6170\n",
       "categories                     3437\n",
       "status                           40\n",
       "country_code                   8694\n",
       "state_code                    10960\n",
       "region                        10183\n",
       "city                          10180\n",
       "established_at                20542\n",
       "dtype: int64"
      ]
     },
     "execution_count": 24,
     "metadata": {},
     "output_type": "execute_result"
    }
   ],
   "source": [
    "#check the total number of nulls in columns in main_file\n",
    "main_file.isnull().sum()"
   ]
  },
  {
   "cell_type": "code",
   "execution_count": 25,
   "id": "60420339",
   "metadata": {},
   "outputs": [
    {
     "data": {
      "text/plain": [
       "permanentlink                  0.00\n",
       "fundinground_permanentlink     0.00\n",
       "fundinground_type              0.00\n",
       "funding_round_code            72.91\n",
       "funded_date                    0.00\n",
       "investment_amount_usd         17.39\n",
       "name                           0.04\n",
       "webhomepage_url                5.37\n",
       "categories                     2.99\n",
       "status                         0.03\n",
       "country_code                   7.56\n",
       "state_code                     9.53\n",
       "region                         8.86\n",
       "city                           8.86\n",
       "established_at                17.87\n",
       "dtype: float64"
      ]
     },
     "execution_count": 25,
     "metadata": {},
     "output_type": "execute_result"
    }
   ],
   "source": [
    "#check the percentage of null values in each column for the final merged dataset\n",
    "round((main_file.isnull().sum())*100/len(main_file.index),2)"
   ]
  },
  {
   "cell_type": "code",
   "execution_count": 26,
   "id": "17c566f7",
   "metadata": {},
   "outputs": [
    {
     "data": {
      "text/plain": [
       "permanentlink                  0.00\n",
       "fundinground_permanentlink     0.00\n",
       "fundinground_type              0.00\n",
       "funding_round_code            70.34\n",
       "funded_date                    0.00\n",
       "investment_amount_usd          0.00\n",
       "name                           0.03\n",
       "webhomepage_url                4.59\n",
       "categories                     1.12\n",
       "status                         0.02\n",
       "country_code                   6.18\n",
       "state_code                     8.02\n",
       "region                         7.44\n",
       "city                           7.43\n",
       "established_at                16.82\n",
       "dtype: float64"
      ]
     },
     "execution_count": 26,
     "metadata": {},
     "output_type": "execute_result"
    }
   ],
   "source": [
    "# removing/Dropping nan values containing rows in investment_amount_usd column\n",
    "main_file = main_file[~np.isnan(main_file[\"investment_amount_usd\"])]\n",
    "\n",
    "#checking the percentage of null values in each column after dropping nan values\n",
    "round((main_file.isnull().sum())*100/len(main_file.index),2)"
   ]
  },
  {
   "cell_type": "code",
   "execution_count": 27,
   "id": "01cd1b52",
   "metadata": {
    "scrolled": true
   },
   "outputs": [
    {
     "data": {
      "text/plain": [
       "permanentlink            0.00\n",
       "fundinground_type        0.00\n",
       "funded_date              0.00\n",
       "investment_amount_usd    0.00\n",
       "name                     0.03\n",
       "categories               1.12\n",
       "country_code             6.18\n",
       "dtype: float64"
      ]
     },
     "execution_count": 27,
     "metadata": {},
     "output_type": "execute_result"
    }
   ],
   "source": [
    "#removing/Dropping funding_round_code, established_at columns,webhomepage_url,state_code,region,city columns\n",
    "main_file = main_file.drop('funding_round_code', axis = 1)\n",
    "main_file = main_file.drop('established_at', axis = 1)\n",
    "main_file = main_file.drop('webhomepage_url', axis = 1)\n",
    "main_file = main_file.drop('state_code', axis = 1)\n",
    "main_file = main_file.drop('region', axis = 1)\n",
    "main_file = main_file.drop('city', axis = 1)\n",
    "main_file = main_file.drop('status', axis = 1)\n",
    "main_file = main_file.drop('fundinground_permanentlink', axis = 1)\n",
    "\n",
    "#check the percentage of null values in each column after cleaning\n",
    "round((main_file.isnull().sum())*100/len(main_file.index),2)"
   ]
  },
  {
   "cell_type": "code",
   "execution_count": 28,
   "id": "9a6e246b",
   "metadata": {},
   "outputs": [
    {
     "data": {
      "text/plain": [
       "permanentlink            0.0\n",
       "fundinground_type        0.0\n",
       "funded_date              0.0\n",
       "investment_amount_usd    0.0\n",
       "name                     0.0\n",
       "categories               0.0\n",
       "country_code             0.0\n",
       "dtype: float64"
      ]
     },
     "execution_count": 28,
     "metadata": {},
     "output_type": "execute_result"
    }
   ],
   "source": [
    "# Removing/Dropping nan containing rows in the 2 columns \n",
    "# we can use wither np.isnan or pd.isnull() for checking whether null or not\n",
    "main_file = main_file[~(main_file[\"categories\"].isnull() | main_file[\"country_code\"].isnull())]\n",
    "\n",
    "#check the percentage of null values in each column after cleaning\n",
    "round((main_file.isnull().sum())*100/len(main_file.index),2)"
   ]
  },
  {
   "cell_type": "code",
   "execution_count": 29,
   "id": "4d4fc162",
   "metadata": {},
   "outputs": [
    {
     "data": {
      "text/html": [
       "<div>\n",
       "<style scoped>\n",
       "    .dataframe tbody tr th:only-of-type {\n",
       "        vertical-align: middle;\n",
       "    }\n",
       "\n",
       "    .dataframe tbody tr th {\n",
       "        vertical-align: top;\n",
       "    }\n",
       "\n",
       "    .dataframe thead th {\n",
       "        text-align: right;\n",
       "    }\n",
       "</style>\n",
       "<table border=\"1\" class=\"dataframe\">\n",
       "  <thead>\n",
       "    <tr style=\"text-align: right;\">\n",
       "      <th></th>\n",
       "      <th>permanentlink</th>\n",
       "      <th>fundinground_type</th>\n",
       "      <th>funded_date</th>\n",
       "      <th>investment_amount_usd</th>\n",
       "      <th>name</th>\n",
       "      <th>categories</th>\n",
       "      <th>country_code</th>\n",
       "    </tr>\n",
       "  </thead>\n",
       "  <tbody>\n",
       "    <tr>\n",
       "      <th>3</th>\n",
       "      <td>/organization/1248</td>\n",
       "      <td>seed</td>\n",
       "      <td>18-03-2014</td>\n",
       "      <td>378812.0</td>\n",
       "      <td>1248</td>\n",
       "      <td>Software</td>\n",
       "      <td>GBR</td>\n",
       "    </tr>\n",
       "    <tr>\n",
       "      <th>4</th>\n",
       "      <td>/organization/128-technology</td>\n",
       "      <td>venture</td>\n",
       "      <td>16-12-2014</td>\n",
       "      <td>11999347.0</td>\n",
       "      <td>128 Technology</td>\n",
       "      <td>Service Providers|Technology</td>\n",
       "      <td>USA</td>\n",
       "    </tr>\n",
       "    <tr>\n",
       "      <th>5</th>\n",
       "      <td>/organization/12bis</td>\n",
       "      <td>seed</td>\n",
       "      <td>15-03-2012</td>\n",
       "      <td>130636.0</td>\n",
       "      <td>12Bis</td>\n",
       "      <td>Publishing|Services</td>\n",
       "      <td>FRA</td>\n",
       "    </tr>\n",
       "    <tr>\n",
       "      <th>6</th>\n",
       "      <td>/organization/12cm</td>\n",
       "      <td>venture</td>\n",
       "      <td>11-12-2014</td>\n",
       "      <td>1809056.0</td>\n",
       "      <td>12cm</td>\n",
       "      <td>Mobile|Service Providers|Software</td>\n",
       "      <td>KOR</td>\n",
       "    </tr>\n",
       "    <tr>\n",
       "      <th>7</th>\n",
       "      <td>/organization/12return</td>\n",
       "      <td>angel</td>\n",
       "      <td>01-06-2012</td>\n",
       "      <td>619494.0</td>\n",
       "      <td>12Return</td>\n",
       "      <td>Consumer Goods|Retail|SaaS|Software</td>\n",
       "      <td>NLD</td>\n",
       "    </tr>\n",
       "    <tr>\n",
       "      <th>9</th>\n",
       "      <td>/organization/1366-technologies</td>\n",
       "      <td>venture</td>\n",
       "      <td>14-01-2011</td>\n",
       "      <td>2400000.0</td>\n",
       "      <td>1366 Technologies</td>\n",
       "      <td>Manufacturing</td>\n",
       "      <td>USA</td>\n",
       "    </tr>\n",
       "    <tr>\n",
       "      <th>10</th>\n",
       "      <td>/organization/1366-technologies</td>\n",
       "      <td>venture</td>\n",
       "      <td>12-12-2013</td>\n",
       "      <td>2500000.0</td>\n",
       "      <td>1366 Technologies</td>\n",
       "      <td>Manufacturing</td>\n",
       "      <td>USA</td>\n",
       "    </tr>\n",
       "    <tr>\n",
       "      <th>11</th>\n",
       "      <td>/organization/1366-technologies</td>\n",
       "      <td>venture</td>\n",
       "      <td>15-10-2013</td>\n",
       "      <td>15000000.0</td>\n",
       "      <td>1366 Technologies</td>\n",
       "      <td>Manufacturing</td>\n",
       "      <td>USA</td>\n",
       "    </tr>\n",
       "  </tbody>\n",
       "</table>\n",
       "</div>"
      ],
      "text/plain": [
       "                      permanentlink fundinground_type funded_date  \\\n",
       "3                /organization/1248              seed  18-03-2014   \n",
       "4      /organization/128-technology           venture  16-12-2014   \n",
       "5               /organization/12bis              seed  15-03-2012   \n",
       "6                /organization/12cm           venture  11-12-2014   \n",
       "7            /organization/12return             angel  01-06-2012   \n",
       "9   /organization/1366-technologies           venture  14-01-2011   \n",
       "10  /organization/1366-technologies           venture  12-12-2013   \n",
       "11  /organization/1366-technologies           venture  15-10-2013   \n",
       "\n",
       "    investment_amount_usd               name  \\\n",
       "3                378812.0               1248   \n",
       "4              11999347.0     128 Technology   \n",
       "5                130636.0              12Bis   \n",
       "6               1809056.0               12cm   \n",
       "7                619494.0           12Return   \n",
       "9               2400000.0  1366 Technologies   \n",
       "10              2500000.0  1366 Technologies   \n",
       "11             15000000.0  1366 Technologies   \n",
       "\n",
       "                             categories country_code  \n",
       "3                              Software          GBR  \n",
       "4          Service Providers|Technology          USA  \n",
       "5                   Publishing|Services          FRA  \n",
       "6     Mobile|Service Providers|Software          KOR  \n",
       "7   Consumer Goods|Retail|SaaS|Software          NLD  \n",
       "9                         Manufacturing          USA  \n",
       "10                        Manufacturing          USA  \n",
       "11                        Manufacturing          USA  "
      ]
     },
     "execution_count": 29,
     "metadata": {},
     "output_type": "execute_result"
    }
   ],
   "source": [
    "main_file.head(8)"
   ]
  },
  {
   "cell_type": "code",
   "execution_count": 30,
   "id": "81041fb5",
   "metadata": {},
   "outputs": [
    {
     "name": "stdout",
     "output_type": "stream",
     "text": [
      "88517 7\n"
     ]
    }
   ],
   "source": [
    "# As shape returns 2 values we store them and print\n",
    "mainx,mainy=main_file.shape\n",
    "print(mainx,mainy)"
   ]
  },
  {
   "cell_type": "code",
   "execution_count": 31,
   "id": "b3da742b",
   "metadata": {},
   "outputs": [
    {
     "data": {
      "image/png": "[encoded data removed]",
      "text/plain": [
       "<Figure size 2160x864 with 1 Axes>"
      ]
     },
     "metadata": {
      "needs_background": "light"
     },
     "output_type": "display_data"
    }
   ],
   "source": [
    "plt.figure(figsize=(30,12))\n",
    "sb.set(style = 'whitegrid')\n",
    "sb.violinplot(x='fundinground_type', y='investment_amount_usd',data = main_file) \n",
    "plt.yscale('log')\n",
    "plt.show()"
   ]
  },
  {
   "cell_type": "code",
   "execution_count": 32,
   "id": "2d8a6d31",
   "metadata": {},
   "outputs": [
    {
     "data": {
      "image/png": "[encoded data removed]",
      "text/plain": [
       "<Figure size 432x288 with 1 Axes>"
      ]
     },
     "metadata": {},
     "output_type": "display_data"
    }
   ],
   "source": [
    "sb.boxplot(y = main_file['investment_amount_usd'])\n",
    "plt.yscale('log')\n",
    "plt.show()"
   ]
  },
  {
   "cell_type": "code",
   "execution_count": 33,
   "id": "b985a917",
   "metadata": {
    "scrolled": true
   },
   "outputs": [
    {
     "data": {
      "text/html": [
       "<div>\n",
       "<style scoped>\n",
       "    .dataframe tbody tr th:only-of-type {\n",
       "        vertical-align: middle;\n",
       "    }\n",
       "\n",
       "    .dataframe tbody tr th {\n",
       "        vertical-align: top;\n",
       "    }\n",
       "\n",
       "    .dataframe thead th {\n",
       "        text-align: right;\n",
       "    }\n",
       "</style>\n",
       "<table border=\"1\" class=\"dataframe\">\n",
       "  <thead>\n",
       "    <tr style=\"text-align: right;\">\n",
       "      <th></th>\n",
       "      <th>permanentlink</th>\n",
       "      <th>fundinground_type</th>\n",
       "      <th>funded_date</th>\n",
       "      <th>investment_amount_usd</th>\n",
       "      <th>name</th>\n",
       "      <th>categories</th>\n",
       "      <th>country_code</th>\n",
       "    </tr>\n",
       "  </thead>\n",
       "  <tbody>\n",
       "    <tr>\n",
       "      <th>3</th>\n",
       "      <td>/organization/1248</td>\n",
       "      <td>seed</td>\n",
       "      <td>18-03-2014</td>\n",
       "      <td>378812.0</td>\n",
       "      <td>1248</td>\n",
       "      <td>Software</td>\n",
       "      <td>GBR</td>\n",
       "    </tr>\n",
       "    <tr>\n",
       "      <th>4</th>\n",
       "      <td>/organization/128-technology</td>\n",
       "      <td>venture</td>\n",
       "      <td>16-12-2014</td>\n",
       "      <td>11999347.0</td>\n",
       "      <td>128 Technology</td>\n",
       "      <td>Service Providers|Technology</td>\n",
       "      <td>USA</td>\n",
       "    </tr>\n",
       "    <tr>\n",
       "      <th>5</th>\n",
       "      <td>/organization/12bis</td>\n",
       "      <td>seed</td>\n",
       "      <td>15-03-2012</td>\n",
       "      <td>130636.0</td>\n",
       "      <td>12Bis</td>\n",
       "      <td>Publishing|Services</td>\n",
       "      <td>FRA</td>\n",
       "    </tr>\n",
       "    <tr>\n",
       "      <th>6</th>\n",
       "      <td>/organization/12cm</td>\n",
       "      <td>venture</td>\n",
       "      <td>11-12-2014</td>\n",
       "      <td>1809056.0</td>\n",
       "      <td>12cm</td>\n",
       "      <td>Mobile|Service Providers|Software</td>\n",
       "      <td>KOR</td>\n",
       "    </tr>\n",
       "    <tr>\n",
       "      <th>7</th>\n",
       "      <td>/organization/12return</td>\n",
       "      <td>angel</td>\n",
       "      <td>01-06-2012</td>\n",
       "      <td>619494.0</td>\n",
       "      <td>12Return</td>\n",
       "      <td>Consumer Goods|Retail|SaaS|Software</td>\n",
       "      <td>NLD</td>\n",
       "    </tr>\n",
       "    <tr>\n",
       "      <th>9</th>\n",
       "      <td>/organization/1366-technologies</td>\n",
       "      <td>venture</td>\n",
       "      <td>14-01-2011</td>\n",
       "      <td>2400000.0</td>\n",
       "      <td>1366 Technologies</td>\n",
       "      <td>Manufacturing</td>\n",
       "      <td>USA</td>\n",
       "    </tr>\n",
       "    <tr>\n",
       "      <th>10</th>\n",
       "      <td>/organization/1366-technologies</td>\n",
       "      <td>venture</td>\n",
       "      <td>12-12-2013</td>\n",
       "      <td>2500000.0</td>\n",
       "      <td>1366 Technologies</td>\n",
       "      <td>Manufacturing</td>\n",
       "      <td>USA</td>\n",
       "    </tr>\n",
       "    <tr>\n",
       "      <th>11</th>\n",
       "      <td>/organization/1366-technologies</td>\n",
       "      <td>venture</td>\n",
       "      <td>15-10-2013</td>\n",
       "      <td>15000000.0</td>\n",
       "      <td>1366 Technologies</td>\n",
       "      <td>Manufacturing</td>\n",
       "      <td>USA</td>\n",
       "    </tr>\n",
       "  </tbody>\n",
       "</table>\n",
       "</div>"
      ],
      "text/plain": [
       "                      permanentlink fundinground_type funded_date  \\\n",
       "3                /organization/1248              seed  18-03-2014   \n",
       "4      /organization/128-technology           venture  16-12-2014   \n",
       "5               /organization/12bis              seed  15-03-2012   \n",
       "6                /organization/12cm           venture  11-12-2014   \n",
       "7            /organization/12return             angel  01-06-2012   \n",
       "9   /organization/1366-technologies           venture  14-01-2011   \n",
       "10  /organization/1366-technologies           venture  12-12-2013   \n",
       "11  /organization/1366-technologies           venture  15-10-2013   \n",
       "\n",
       "    investment_amount_usd               name  \\\n",
       "3                378812.0               1248   \n",
       "4              11999347.0     128 Technology   \n",
       "5                130636.0              12Bis   \n",
       "6               1809056.0               12cm   \n",
       "7                619494.0           12Return   \n",
       "9               2400000.0  1366 Technologies   \n",
       "10              2500000.0  1366 Technologies   \n",
       "11             15000000.0  1366 Technologies   \n",
       "\n",
       "                             categories country_code  \n",
       "3                              Software          GBR  \n",
       "4          Service Providers|Technology          USA  \n",
       "5                   Publishing|Services          FRA  \n",
       "6     Mobile|Service Providers|Software          KOR  \n",
       "7   Consumer Goods|Retail|SaaS|Software          NLD  \n",
       "9                         Manufacturing          USA  \n",
       "10                        Manufacturing          USA  \n",
       "11                        Manufacturing          USA  "
      ]
     },
     "execution_count": 33,
     "metadata": {},
     "output_type": "execute_result"
    }
   ],
   "source": [
    "# Filtering the fundinground_type according to (seed,angel,venture,private_equity) values\n",
    "main_file = main_file[main_file['fundinground_type'].apply(lambda x: x in ['seed','angel','venture','private_equity'])]\n",
    "main_file.head(8)"
   ]
  },
  {
   "cell_type": "code",
   "execution_count": 34,
   "id": "6fc10705",
   "metadata": {
    "scrolled": true
   },
   "outputs": [
    {
     "data": {
      "image/png": "[encoded data removed]",
      "text/plain": [
       "<Figure size 2160x864 with 1 Axes>"
      ]
     },
     "metadata": {},
     "output_type": "display_data"
    }
   ],
   "source": [
    "plt.figure(figsize=(30,12))\n",
    "sb.set(style = 'whitegrid')\n",
    "sb.violinplot(x='fundinground_type', y='investment_amount_usd',style =\"event\",data = main_file) \n",
    "plt.yscale('log')\n",
    "plt.show()"
   ]
  },
  {
   "cell_type": "code",
   "execution_count": 36,
   "id": "460b5490",
   "metadata": {},
   "outputs": [
    {
     "data": {
      "text/plain": [
       "venture           47809\n",
       "seed              21090\n",
       "angel              4400\n",
       "private_equity     1820\n",
       "Name: fundinground_type, dtype: int64"
      ]
     },
     "execution_count": 36,
     "metadata": {},
     "output_type": "execute_result"
    }
   ],
   "source": [
    "#check which funding type has more investments overall\n",
    "main_file['fundinground_type'].value_counts()"
   ]
  }
 ],
 "metadata": {
  "kernelspec": {
   "display_name": "Python 3 (ipykernel)",
   "language": "python",
   "name": "python3"
  },
  "language_info": {
   "codemirror_mode": {
    "name": "ipython",
    "version": 3
   },
   "file_extension": ".py",
   "mimetype": "text/x-python",
   "name": "python",
   "nbconvert_exporter": "python",
   "pygments_lexer": "ipython3",
   "version": "3.10.5"
  }
 },
 "nbformat": 4,
 "nbformat_minor": 5
}
